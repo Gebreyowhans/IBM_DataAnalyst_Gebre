{
 "cells": [
  {
   "cell_type": "markdown",
   "metadata": {
    "id": "d8be15d8-fa8b-4b4f-94d7-39ed53321abd"
   },
   "source": [
    "<p style=\"text-align:center\">\n",
    "    <a href=\"https://skills.network\" target=\"_blank\">\n",
    "    <img src=\"https://cf-courses-data.s3.us.cloud-object-storage.appdomain.cloud/assets/logos/SN_web_lightmode.png\" width=\"200\" alt=\"Skills Network Logo\"  />\n",
    "    </a>\n",
    "</p>\n"
   ]
  },
  {
   "cell_type": "markdown",
   "metadata": {
    "id": "ee706056-1bac-4cb0-820e-b9824ebdb12a"
   },
   "source": [
    "# **Data Wrangling Lab**\n"
   ]
  },
  {
   "cell_type": "markdown",
   "metadata": {
    "id": "51dc38be-5625-4c22-b622-dca1d20a2134"
   },
   "source": [
    "Estimated time needed: **45** minutes\n"
   ]
  },
  {
   "cell_type": "markdown",
   "metadata": {
    "id": "03086336-ee63-4d6a-a1ce-d243006d7057"
   },
   "source": [
    "In this lab, you will perform data wrangling tasks to prepare raw data for analysis. Data wrangling involves cleaning, transforming, and organizing data into a structured format suitable for analysis. This lab focuses on tasks like identifying inconsistencies, encoding categorical variables, and feature transformation.\n"
   ]
  },
  {
   "cell_type": "markdown",
   "metadata": {
    "id": "e223ac3e-4f39-44fa-a3fe-e1e0badf69ac"
   },
   "source": [
    "## Objectives\n"
   ]
  },
  {
   "cell_type": "markdown",
   "metadata": {
    "id": "1cddaf13-6966-4047-aa87-daebb0727a7b"
   },
   "source": [
    "After completing this lab, you will be able to:\n"
   ]
  },
  {
   "cell_type": "markdown",
   "metadata": {
    "id": "b268cb62-6e7c-4d79-be7c-d946a22c6923"
   },
   "source": [
    "- Identify and remove inconsistent data entries.\n",
    "\n",
    "- Encode categorical variables for analysis.\n",
    "\n",
    "- Handle missing values using multiple imputation strategies.\n",
    "\n",
    "- Apply feature scaling and transformation techniques.\n"
   ]
  },
  {
   "cell_type": "markdown",
   "metadata": {
    "id": "2c9b4baf-895a-4feb-9b7e-a15aedf316ad"
   },
   "source": [
    "#### Intsall the required libraries\n"
   ]
  },
  {
   "cell_type": "markdown",
   "metadata": {
    "id": "37b8c69b-ce80-4c51-bef1-fa344e72a840"
   },
   "source": [
    "## Tasks\n"
   ]
  },
  {
   "cell_type": "markdown",
   "metadata": {
    "id": "9944eb65-42f7-4a97-bc2a-87f69456a1a4"
   },
   "source": [
    "#### Step 1: Import the necessary module.\n"
   ]
  },
  {
   "cell_type": "markdown",
   "metadata": {
    "id": "6f636b4c-6417-4cbc-a15d-da5bdab947e7"
   },
   "source": [
    "### 1. Load the Dataset\n"
   ]
  },
  {
   "cell_type": "markdown",
   "metadata": {
    "id": "d0302abc-6d29-4f75-9023-8bfd18365412"
   },
   "source": [
    "<h5>1.1 Import necessary libraries and load the dataset.</h5>\n"
   ]
  },
  {
   "cell_type": "markdown",
   "metadata": {
    "id": "d1acfb07-c289-45fc-a4a3-20bcad583eed"
   },
   "source": [
    "Ensure the dataset is loaded correctly by displaying the first few rows.\n"
   ]
  },
  {
   "cell_type": "code",
   "execution_count": 1,
   "metadata": {
    "id": "UkmUhOC6lblM"
   },
   "outputs": [],
   "source": [
    "# Import necessary libraries\n",
    "import pandas as pd\n",
    "import numpy as np\n",
    "import matplotlib.pyplot as plt\n",
    "import seaborn as sns\n"
   ]
  },
  {
   "cell_type": "code",
   "execution_count": 2,
   "metadata": {
    "colab": {
     "base_uri": "https://localhost:8080/"
    },
    "id": "417bbb3f-df8d-45ec-8d6e-8f695d9a4a25",
    "outputId": "63d878ac-a994-4c05-dcfc-7b11b61bcd8d"
   },
   "outputs": [
    {
     "name": "stdout",
     "output_type": "stream",
     "text": [
      "   ResponseId                      MainBranch                 Age  \\\n",
      "0           1  I am a developer by profession  Under 18 years old   \n",
      "1           2  I am a developer by profession     35-44 years old   \n",
      "2           3  I am a developer by profession     45-54 years old   \n",
      "3           4           I am learning to code     18-24 years old   \n",
      "4           5  I am a developer by profession     18-24 years old   \n",
      "\n",
      "            Employment RemoteWork   Check  \\\n",
      "0  Employed, full-time     Remote  Apples   \n",
      "1  Employed, full-time     Remote  Apples   \n",
      "2  Employed, full-time     Remote  Apples   \n",
      "3   Student, full-time        NaN  Apples   \n",
      "4   Student, full-time        NaN  Apples   \n",
      "\n",
      "                                    CodingActivities  \\\n",
      "0                                              Hobby   \n",
      "1  Hobby;Contribute to open-source projects;Other...   \n",
      "2  Hobby;Contribute to open-source projects;Other...   \n",
      "3                                                NaN   \n",
      "4                                                NaN   \n",
      "\n",
      "                                             EdLevel  \\\n",
      "0                          Primary/elementary school   \n",
      "1       Bachelor’s degree (B.A., B.S., B.Eng., etc.)   \n",
      "2    Master’s degree (M.A., M.S., M.Eng., MBA, etc.)   \n",
      "3  Some college/university study without earning ...   \n",
      "4  Secondary school (e.g. American high school, G...   \n",
      "\n",
      "                                           LearnCode  \\\n",
      "0                             Books / Physical media   \n",
      "1  Books / Physical media;Colleague;On the job tr...   \n",
      "2  Books / Physical media;Colleague;On the job tr...   \n",
      "3  Other online resources (e.g., videos, blogs, f...   \n",
      "4  Other online resources (e.g., videos, blogs, f...   \n",
      "\n",
      "                                     LearnCodeOnline  ... JobSatPoints_6  \\\n",
      "0                                                NaN  ...            NaN   \n",
      "1  Technical documentation;Blogs;Books;Written Tu...  ...            0.0   \n",
      "2  Technical documentation;Blogs;Books;Written Tu...  ...            NaN   \n",
      "3  Stack Overflow;How-to videos;Interactive tutorial  ...            NaN   \n",
      "4  Technical documentation;Blogs;Written Tutorial...  ...            NaN   \n",
      "\n",
      "  JobSatPoints_7 JobSatPoints_8 JobSatPoints_9 JobSatPoints_10  \\\n",
      "0            NaN            NaN            NaN             NaN   \n",
      "1            0.0            0.0            0.0             0.0   \n",
      "2            NaN            NaN            NaN             NaN   \n",
      "3            NaN            NaN            NaN             NaN   \n",
      "4            NaN            NaN            NaN             NaN   \n",
      "\n",
      "  JobSatPoints_11           SurveyLength SurveyEase ConvertedCompYearly JobSat  \n",
      "0             NaN                    NaN        NaN                 NaN    NaN  \n",
      "1             0.0                    NaN        NaN                 NaN    NaN  \n",
      "2             NaN  Appropriate in length       Easy                 NaN    NaN  \n",
      "3             NaN               Too long       Easy                 NaN    NaN  \n",
      "4             NaN              Too short       Easy                 NaN    NaN  \n",
      "\n",
      "[5 rows x 114 columns]\n"
     ]
    }
   ],
   "source": [
    "\n",
    "# Load the Stack Overflow survey data\n",
    "dataset_url = \"https://cf-courses-data.s3.us.cloud-object-storage.appdomain.cloud/n01PQ9pSmiRX6520flujwQ/survey-data.csv\"\n",
    "df = pd.read_csv(dataset_url)\n",
    "\n",
    "# Display the first few rows\n",
    "print(df.head())"
   ]
  },
  {
   "cell_type": "markdown",
   "metadata": {
    "id": "_tnzwn5tlblO"
   },
   "source": [
    "## Identify and Analyze Duplicates"
   ]
  },
  {
   "cell_type": "markdown",
   "metadata": {
    "id": "dFgiTahGlblP"
   },
   "source": [
    "### Task 1: Identify Duplicate Rows\n",
    "1. Count the number of duplicate rows in the dataset.\n",
    "3. Display the first few duplicate rows to understand their structure."
   ]
  },
  {
   "cell_type": "code",
   "execution_count": 3,
   "metadata": {
    "colab": {
     "base_uri": "https://localhost:8080/"
    },
    "id": "j8YPI_oQlblP",
    "outputId": "59a509de-13b4-44f5-8591-560c84052a89"
   },
   "outputs": [
    {
     "name": "stdout",
     "output_type": "stream",
     "text": [
      "There are 487 duplicate rows.\n"
     ]
    }
   ],
   "source": [
    "# your code goes here\n",
    "\n",
    "df.drop('ResponseId',axis=1,inplace=True,errors='ignore')\n",
    "\n",
    "print('There are', df.duplicated().sum(), 'duplicate rows.')"
   ]
  },
  {
   "cell_type": "code",
   "execution_count": 4,
   "metadata": {
    "colab": {
     "base_uri": "https://localhost:8080/"
    },
    "id": "u8DvCJnBlblQ",
    "outputId": "03312fce-64f5-41ba-90e4-9f860d06fe5d"
   },
   "outputs": [
    {
     "name": "stdout",
     "output_type": "stream",
     "text": [
      "Number of duplicate rows: 487\n",
      "First few duplicate rows:\n",
      "                                              MainBranch                 Age  \\\n",
      "46264                     I am a developer by profession     25-34 years old   \n",
      "46774                     I am a developer by profession     18-24 years old   \n",
      "46921                     I am a developer by profession     18-24 years old   \n",
      "47073  I am not primarily a developer, but I write co...     25-34 years old   \n",
      "47340                        I code primarily as a hobby  Under 18 years old   \n",
      "\n",
      "                Employment                            RemoteWork   Check  \\\n",
      "46264  Employed, full-time                                Remote  Apples   \n",
      "46774  Employed, full-time  Hybrid (some remote, some in-person)  Apples   \n",
      "46921  Employed, full-time                             In-person  Apples   \n",
      "47073  Employed, full-time                             In-person  Apples   \n",
      "47340   Student, full-time                                   NaN  Apples   \n",
      "\n",
      "                                        CodingActivities EdLevel LearnCode  \\\n",
      "46264                                                NaN     NaN       NaN   \n",
      "46774  Hobby;Professional development or self-paced l...     NaN       NaN   \n",
      "46921                                                NaN     NaN       NaN   \n",
      "47073                                                NaN     NaN       NaN   \n",
      "47340                                                NaN     NaN       NaN   \n",
      "\n",
      "      LearnCodeOnline TechDoc  ... JobSatPoints_6 JobSatPoints_7  \\\n",
      "46264             NaN     NaN  ...            NaN            NaN   \n",
      "46774             NaN     NaN  ...            NaN            NaN   \n",
      "46921             NaN     NaN  ...            NaN            NaN   \n",
      "47073             NaN     NaN  ...            NaN            NaN   \n",
      "47340             NaN     NaN  ...            NaN            NaN   \n",
      "\n",
      "      JobSatPoints_8 JobSatPoints_9 JobSatPoints_10 JobSatPoints_11  \\\n",
      "46264            NaN            NaN             NaN             NaN   \n",
      "46774            NaN            NaN             NaN             NaN   \n",
      "46921            NaN            NaN             NaN             NaN   \n",
      "47073            NaN            NaN             NaN             NaN   \n",
      "47340            NaN            NaN             NaN             NaN   \n",
      "\n",
      "      SurveyLength SurveyEase ConvertedCompYearly JobSat  \n",
      "46264          NaN        NaN                 NaN    NaN  \n",
      "46774          NaN        NaN                 NaN    NaN  \n",
      "46921          NaN        NaN                 NaN    NaN  \n",
      "47073          NaN        NaN                 NaN    NaN  \n",
      "47340          NaN        NaN                 NaN    NaN  \n",
      "\n",
      "[5 rows x 113 columns]\n"
     ]
    }
   ],
   "source": [
    "## Write your code here\n",
    "num_duplicates = df.duplicated().sum()\n",
    "print(f\"Number of duplicate rows: {num_duplicates}\")\n",
    "\n",
    "# Display the first few duplicate rows (excluding the first occurrence)\n",
    "duplicate_rows = df[df.duplicated()]\n",
    "print(\"First few duplicate rows:\")\n",
    "print(duplicate_rows.head())"
   ]
  },
  {
   "cell_type": "code",
   "execution_count": 5,
   "metadata": {
    "colab": {
     "base_uri": "https://localhost:8080/"
    },
    "id": "u58NvsFhlblQ",
    "outputId": "527b8a77-21ca-4149-d24a-3eadadae7253"
   },
   "outputs": [
    {
     "name": "stdout",
     "output_type": "stream",
     "text": [
      "(65115, 113)\n"
     ]
    }
   ],
   "source": [
    "# Replace 'Prefer not to say' with NaN\n",
    "df['Age'].replace('Prefer not to say', np.nan, inplace=True)\n",
    "\n",
    "# Drop rows with NaN values in the Age column\n",
    "df.dropna(subset=['Age'], inplace=True)\n",
    "\n",
    "print(df.shape)"
   ]
  },
  {
   "cell_type": "code",
   "execution_count": 6,
   "metadata": {
    "colab": {
     "base_uri": "https://localhost:8080/"
    },
    "id": "KmjiId2klblR",
    "outputId": "0eb27418-d9d0-44b3-fd22-8ac3f09d2f30"
   },
   "outputs": [],
   "source": [
    "df.Age.replace({'25-34 years old':30,\n",
    "                '35-44 years old':40,\n",
    "                '18-24 years old':20,\n",
    "                '45-54 years old':50,\n",
    "                '55-64 years old':60,\n",
    "                'Under 18 years old':17,\n",
    "                '65 years or older':70\n",
    "                },inplace=True)\n",
    "df['Age']=df['Age'].astype('int')"
   ]
  },
  {
   "cell_type": "markdown",
   "metadata": {
    "id": "eKwuVp-8lblR"
   },
   "source": [
    "### Task 2: Analyze Characteristics of Duplicates\n",
    "1. Identify which columns have the same values in duplicate rows.\n",
    "2. Analyze the distribution of duplicates across different columns such as Country, Employment, and DevType."
   ]
  },
  {
   "cell_type": "code",
   "execution_count": 7,
   "metadata": {
    "colab": {
     "base_uri": "https://localhost:8080/"
    },
    "id": "yH8Yo-FKlblS",
    "outputId": "e6ea8f84-dfa9-4ed5-902a-851ed841d01e"
   },
   "outputs": [
    {
     "name": "stdout",
     "output_type": "stream",
     "text": [
      " number of duplciated rows : 618\n",
      "Columns with same values in duplicate rows:\n",
      "Index(['MainBranch', 'Age', 'Employment', 'RemoteWork', 'Check',\n",
      "       'CodingActivities', 'EdLevel', 'LearnCode', 'LearnCodeOnline',\n",
      "       'TechDoc',\n",
      "       ...\n",
      "       'JobSatPoints_6', 'JobSatPoints_7', 'JobSatPoints_8', 'JobSatPoints_9',\n",
      "       'JobSatPoints_10', 'JobSatPoints_11', 'SurveyLength', 'SurveyEase',\n",
      "       'ConvertedCompYearly', 'JobSat'],\n",
      "      dtype='object', length=113)\n"
     ]
    }
   ],
   "source": [
    "# Identify duplicate rows\n",
    "duplicates = df[df.duplicated(keep=False)]  # keep=False keeps all duplicates\n",
    "\n",
    "print(f' number of duplciated rows : {len(duplicates)}')\n",
    "# Show columns in duplicates\n",
    "print(\"Columns with same values in duplicate rows:\")\n",
    "duplicate_columns = duplicates.columns\n",
    "print(duplicate_columns)"
   ]
  },
  {
   "cell_type": "code",
   "execution_count": 8,
   "metadata": {
    "colab": {
     "base_uri": "https://localhost:8080/"
    },
    "id": "BEsByfgglblS",
    "outputId": "819b23ce-66f9-485f-f3a7-7b59a8cb465c"
   },
   "outputs": [
    {
     "name": "stdout",
     "output_type": "stream",
     "text": [
      "Distribution of duplicates across 'Country', 'Employment', and 'DevType':\n",
      "Empty DataFrame\n",
      "Columns: [Country, Employment, DevType, duplicate_count]\n",
      "Index: []\n"
     ]
    }
   ],
   "source": [
    "# Group by 'Country', 'Employment', and 'DevType' and count duplicates\n",
    "duplicates_distribution = df[df.duplicated(keep=False)].groupby(['Country', 'Employment', 'DevType']).size().reset_index(name='duplicate_count')\n",
    "\n",
    "# Display the distribution of duplicates across these columns\n",
    "print(\"Distribution of duplicates across 'Country', 'Employment', and 'DevType':\")\n",
    "print(duplicates_distribution)"
   ]
  },
  {
   "cell_type": "markdown",
   "metadata": {
    "id": "whK99_f0lblT"
   },
   "source": [
    "### Task 3: Visualize Duplicates Distribution\n",
    "1. Create visualizations to show the distribution of duplicates across different categories.\n",
    "2. Use bar charts or pie charts to represent the distribution of duplicates by Country and Employment."
   ]
  },
  {
   "cell_type": "markdown",
   "metadata": {
    "id": "LeWE9XDilblU"
   },
   "source": [
    "#### Imputing missing values"
   ]
  },
  {
   "cell_type": "code",
   "execution_count": 9,
   "metadata": {
    "colab": {
     "base_uri": "https://localhost:8080/"
    },
    "id": "Hh4wZ1vplblU",
    "outputId": "68af09a5-2993-46e4-8174-1795d48abec4"
   },
   "outputs": [
    {
     "name": "stdout",
     "output_type": "stream",
     "text": [
      "\n",
      "\n",
      "There are 110 unique Employment values in the survey:\n",
      "\n",
      "Employment        value count\n",
      "----------        -----------\n",
      "Employment\n",
      "Employed, full-time                                                                                                                                  38970\n",
      "Independent contractor, freelancer, or self-employed                                                                                                  4817\n",
      "Student, full-time                                                                                                                                    4664\n",
      "Employed, full-time;Independent contractor, freelancer, or self-employed                                                                              3547\n",
      "Not employed, but looking for work                                                                                                                    2322\n",
      "                                                                                                                                                     ...  \n",
      "Employed, full-time;Student, full-time;Independent contractor, freelancer, or self-employed;Student, part-time;Employed, part-time;Retired               1\n",
      "Employed, full-time;Independent contractor, freelancer, or self-employed;Student, part-time;Retired                                                      1\n",
      "Employed, full-time;Independent contractor, freelancer, or self-employed;Employed, part-time;Retired                                                     1\n",
      "Student, full-time;Not employed, but looking for work;Independent contractor, freelancer, or self-employed;Not employed, and not looking for work        1\n",
      "Not employed, but looking for work;Independent contractor, freelancer, or self-employed;Student, part-time;Retired                                       1\n",
      "Name: count, Length: 110, dtype: int64\n"
     ]
    }
   ],
   "source": [
    "# your code goes here\n",
    "\n",
    "print('\\n\\nThere are', df['Employment'].nunique(), 'unique Employment values in the survey:')\n",
    "\n",
    "print('\\nEmployment        value count')\n",
    "print('----------        -----------')\n",
    "print(df['Employment'].value_counts())"
   ]
  },
  {
   "cell_type": "markdown",
   "metadata": {
    "id": "NedVXfD7lblU"
   },
   "source": [
    "#### Impute (replace) all the empty rows in the column WorkLoc with the value that you have identified as majority."
   ]
  },
  {
   "cell_type": "code",
   "execution_count": 10,
   "metadata": {
    "colab": {
     "base_uri": "https://localhost:8080/"
    },
    "id": "8dT6X1mLlblV",
    "outputId": "264042a6-3e54-458b-e1b1-ef1874172198"
   },
   "outputs": [],
   "source": [
    "df['EdLevel'].fillna(df['EdLevel'].value_counts().idxmax(), inplace=True)"
   ]
  },
  {
   "cell_type": "code",
   "execution_count": 11,
   "metadata": {
    "colab": {
     "base_uri": "https://localhost:8080/"
    },
    "id": "iZTeMoeMlblV",
    "outputId": "3b27ea4e-f864-4ced-8ab1-560932720451"
   },
   "outputs": [
    {
     "name": "stdout",
     "output_type": "stream",
     "text": [
      "\n",
      "Value counts for missing data in EdLevel:\n",
      "\n",
      "EdLevel\n",
      "Bachelor’s degree (B.A., B.S., B.Eng., etc.)                                          29492\n",
      "Master’s degree (M.A., M.S., M.Eng., MBA, etc.)                                       15518\n",
      "Some college/university study without earning a degree                                 7632\n",
      "Secondary school (e.g. American high school, German Realschule or Gymnasium, etc.)     5757\n",
      "Professional degree (JD, MD, Ph.D, Ed.D, etc.)                                         2937\n",
      "Associate degree (A.A., A.S., etc.)                                                    1788\n",
      "Primary/elementary school                                                              1125\n",
      "Something else                                                                          866\n",
      "Name: count, dtype: int64\n"
     ]
    }
   ],
   "source": [
    "print('\\nValue counts for missing data in EdLevel:\\n')\n",
    "\n",
    "print(df['EdLevel'].value_counts())"
   ]
  },
  {
   "cell_type": "markdown",
   "metadata": {
    "id": "XRyY8GnclblW"
   },
   "source": [
    "### Step 6: Normalizing Compensation Data"
   ]
  },
  {
   "cell_type": "markdown",
   "metadata": {
    "id": "rY2VFf8WlblW"
   },
   "source": [
    "**Task 4: Normalize Compensation Data Using ConvertedCompYearly**\n",
    "   1. Use the ConvertedCompYearly column for compensation analysis as the normalized annual compensation is already provided.\n",
    "   2. Check for missing values in ConvertedCompYearly and handle them if necessary."
   ]
  },
  {
   "cell_type": "code",
   "execution_count": 12,
   "metadata": {
    "colab": {
     "base_uri": "https://localhost:8080/"
    },
    "id": "DBk5v2aElblW",
    "outputId": "7bfd46cb-483e-4913-c6c7-4f206d50cbde"
   },
   "outputs": [
    {
     "name": "stdout",
     "output_type": "stream",
     "text": [
      "Missing values in 'ConvertedCompYearly': 41689\n",
      "Missing values after handling: 0\n"
     ]
    }
   ],
   "source": [
    "## Write your code here\n",
    "missing_values = df['ConvertedCompYearly'].isnull().sum()\n",
    "print(f\"Missing values in 'ConvertedCompYearly': {missing_values}\")\n",
    "\n",
    "# Option 1: Fill missing values with the median of 'ConvertedCompYearly'\n",
    "df['ConvertedCompYearly'].fillna(df['ConvertedCompYearly'].median(), inplace=True)\n",
    "\n",
    "# Step 3: Check again for missing values after handling them\n",
    "missing_values_after = df['ConvertedCompYearly'].isnull().sum()\n",
    "print(f\"Missing values after handling: {missing_values_after}\")"
   ]
  },
  {
   "cell_type": "markdown",
   "metadata": {
    "id": "oJnkB42clblX"
   },
   "source": [
    "##### Visualize missing values using a heatmap (Using seaborn library)."
   ]
  },
  {
   "cell_type": "code",
   "execution_count": 13,
   "metadata": {
    "colab": {
     "base_uri": "https://localhost:8080/",
     "height": 923
    },
    "id": "JqY3MDWZlblX",
    "outputId": "10d0868b-18fd-433c-fad9-b6663fe56449"
   },
   "outputs": [
    {
     "data": {
      "image/png": "[encoded data removed]",
      "text/plain": [
       "<Figure size 1000x800 with 1 Axes>"
      ]
     },
     "metadata": {},
     "output_type": "display_data"
    }
   ],
   "source": [
    "## Write your code here\n",
    "\n",
    "# Assuming your DataFrame is named 'df'\n",
    "plt.figure(figsize=(10, 8))  # Adjust figure size as needed\n",
    "sns.heatmap(df.isnull(), cbar=False, cmap='viridis', yticklabels=False)\n",
    "plt.title('Missing Values Heatmap')\n",
    "plt.show()"
   ]
  },
  {
   "cell_type": "markdown",
   "metadata": {
    "id": "UhNk7LeClblY"
   },
   "source": [
    "##### Task 4: Count the number of missing rows for a specific column (e.g., `Employment`)."
   ]
  },
  {
   "cell_type": "code",
   "execution_count": 14,
   "metadata": {
    "colab": {
     "base_uri": "https://localhost:8080/",
     "height": 424
    },
    "id": "f6dmzwIHlblY",
    "outputId": "90d9ae57-8f86-4d5e-e745-a2b2b47c1956"
   },
   "outputs": [
    {
     "data": {
      "text/html": [
       "<div>\n",
       "<style scoped>\n",
       "    .dataframe tbody tr th:only-of-type {\n",
       "        vertical-align: middle;\n",
       "    }\n",
       "\n",
       "    .dataframe tbody tr th {\n",
       "        vertical-align: top;\n",
       "    }\n",
       "\n",
       "    .dataframe thead th {\n",
       "        text-align: right;\n",
       "    }\n",
       "</style>\n",
       "<table border=\"1\" class=\"dataframe\">\n",
       "  <thead>\n",
       "    <tr style=\"text-align: right;\">\n",
       "      <th></th>\n",
       "      <th>missing_values</th>\n",
       "    </tr>\n",
       "  </thead>\n",
       "  <tbody>\n",
       "    <tr>\n",
       "      <th>MainBranch</th>\n",
       "      <td>0</td>\n",
       "    </tr>\n",
       "    <tr>\n",
       "      <th>Age</th>\n",
       "      <td>0</td>\n",
       "    </tr>\n",
       "    <tr>\n",
       "      <th>Employment</th>\n",
       "      <td>0</td>\n",
       "    </tr>\n",
       "    <tr>\n",
       "      <th>RemoteWork</th>\n",
       "      <td>10430</td>\n",
       "    </tr>\n",
       "    <tr>\n",
       "      <th>Check</th>\n",
       "      <td>0</td>\n",
       "    </tr>\n",
       "    <tr>\n",
       "      <th>...</th>\n",
       "      <td>...</td>\n",
       "    </tr>\n",
       "    <tr>\n",
       "      <th>JobSatPoints_11</th>\n",
       "      <td>35721</td>\n",
       "    </tr>\n",
       "    <tr>\n",
       "      <th>SurveyLength</th>\n",
       "      <td>9180</td>\n",
       "    </tr>\n",
       "    <tr>\n",
       "      <th>SurveyEase</th>\n",
       "      <td>9125</td>\n",
       "    </tr>\n",
       "    <tr>\n",
       "      <th>ConvertedCompYearly</th>\n",
       "      <td>0</td>\n",
       "    </tr>\n",
       "    <tr>\n",
       "      <th>JobSat</th>\n",
       "      <td>36037</td>\n",
       "    </tr>\n",
       "  </tbody>\n",
       "</table>\n",
       "<p>113 rows × 1 columns</p>\n",
       "</div>"
      ],
      "text/plain": [
       "                     missing_values\n",
       "MainBranch                        0\n",
       "Age                               0\n",
       "Employment                        0\n",
       "RemoteWork                    10430\n",
       "Check                             0\n",
       "...                             ...\n",
       "JobSatPoints_11               35721\n",
       "SurveyLength                   9180\n",
       "SurveyEase                     9125\n",
       "ConvertedCompYearly               0\n",
       "JobSat                        36037\n",
       "\n",
       "[113 rows x 1 columns]"
      ]
     },
     "execution_count": 14,
     "metadata": {},
     "output_type": "execute_result"
    }
   ],
   "source": [
    "## Write your code here\n",
    "\n",
    "def missing_value(df):\n",
    "    return df.isnull().sum().to_frame('missing_values')\n",
    "\n",
    "missing_data=missing_value(df)\n",
    "missing_data"
   ]
  },
  {
   "cell_type": "code",
   "execution_count": 15,
   "metadata": {
    "colab": {
     "base_uri": "https://localhost:8080/",
     "height": 115
    },
    "id": "G_zWdNR2lblZ",
    "outputId": "a22a42c7-e52f-4d67-a3da-571ac56082ba"
   },
   "outputs": [
    {
     "data": {
      "text/plain": [
       "missing_values    0\n",
       "Name: Employment, dtype: int64"
      ]
     },
     "execution_count": 15,
     "metadata": {},
     "output_type": "execute_result"
    }
   ],
   "source": [
    "## Write your code here\n",
    "missing_data.loc['Employment',:]"
   ]
  },
  {
   "cell_type": "markdown",
   "metadata": {
    "id": "356NyGYmlbll"
   },
   "source": [
    "### Imputing Missing Values\n",
    "##### Identify the most frequent (majority) value in a specific column (e.g., `Employment`)."
   ]
  },
  {
   "cell_type": "code",
   "execution_count": 16,
   "metadata": {
    "colab": {
     "base_uri": "https://localhost:8080/"
    },
    "id": "MnVbhKbalblm",
    "outputId": "7c5cb372-de4a-40c9-aeba-5d49ecd08f0d"
   },
   "outputs": [
    {
     "name": "stdout",
     "output_type": "stream",
     "text": [
      "Employed, full-time\n"
     ]
    }
   ],
   "source": [
    "## Write your code here\n",
    "print(df['Employment'].value_counts().idxmax())"
   ]
  },
  {
   "cell_type": "markdown",
   "metadata": {
    "id": "FMN6Po1mlblm"
   },
   "source": [
    "##### Impute missing values in the `Employment` column with the most frequent value."
   ]
  },
  {
   "cell_type": "code",
   "execution_count": 17,
   "metadata": {
    "colab": {
     "base_uri": "https://localhost:8080/"
    },
    "id": "_py0OzbDlblm",
    "outputId": "417097fd-a771-4472-cbce-57bd0eac9d64"
   },
   "outputs": [],
   "source": [
    "## Write your code here\n",
    "df['Employment'].fillna(df['Employment'].value_counts().idxmax(),inplace=True)"
   ]
  },
  {
   "cell_type": "markdown",
   "metadata": {
    "id": "u_KXtqsQlbln"
   },
   "source": [
    "### Visualizing Imputed Data\n",
    "##### Visualize the distribution of a column after imputation (e.g., `Employment`)."
   ]
  },
  {
   "cell_type": "code",
   "execution_count": 18,
   "metadata": {
    "colab": {
     "base_uri": "https://localhost:8080/",
     "height": 490
    },
    "id": "724oCtzqlblo",
    "outputId": "a700ed02-6656-439c-a9a5-073c85c0729b"
   },
   "outputs": [
    {
     "data": {
      "text/plain": [
       "Employment\n",
       "Employed, full-time                                                                                                                                  38970\n",
       "Independent contractor, freelancer, or self-employed                                                                                                  4817\n",
       "Student, full-time                                                                                                                                    4664\n",
       "Employed, full-time;Independent contractor, freelancer, or self-employed                                                                              3547\n",
       "Not employed, but looking for work                                                                                                                    2322\n",
       "                                                                                                                                                     ...  \n",
       "Employed, full-time;Student, full-time;Independent contractor, freelancer, or self-employed;Student, part-time;Employed, part-time;Retired               1\n",
       "Employed, full-time;Independent contractor, freelancer, or self-employed;Student, part-time;Retired                                                      1\n",
       "Employed, full-time;Independent contractor, freelancer, or self-employed;Employed, part-time;Retired                                                     1\n",
       "Student, full-time;Not employed, but looking for work;Independent contractor, freelancer, or self-employed;Not employed, and not looking for work        1\n",
       "Not employed, but looking for work;Independent contractor, freelancer, or self-employed;Student, part-time;Retired                                       1\n",
       "Name: count, Length: 110, dtype: int64"
      ]
     },
     "execution_count": 18,
     "metadata": {},
     "output_type": "execute_result"
    }
   ],
   "source": [
    "df['Employment'].value_counts()"
   ]
  },
  {
   "cell_type": "code",
   "execution_count": 19,
   "metadata": {
    "colab": {
     "base_uri": "https://localhost:8080/",
     "height": 920
    },
    "id": "pwR7J43blblo",
    "outputId": "fbccb134-5f69-41f1-ce55-347d330d404e"
   },
   "outputs": [
    {
     "data": {
      "image/png": "[encoded data removed]",
      "text/plain": [
       "<Figure size 1000x600 with 1 Axes>"
      ]
     },
     "metadata": {},
     "output_type": "display_data"
    }
   ],
   "source": [
    "\n",
    "# Option 1: Using a bar chart\n",
    "plt.figure(figsize=(10, 6))  # Adjust figure size if needed\n",
    "employment_counts = df['Employment'].value_counts().sort_values(ascending=False)\n",
    "\n",
    "employment_counts=employment_counts.head()\n",
    "\n",
    "sns.barplot(x=employment_counts.index, y=employment_counts.values)\n",
    "plt.title('Distribution of Employment after Imputation')\n",
    "plt.xlabel('Employment Status')\n",
    "plt.ylabel('Count')\n",
    "plt.xticks(rotation=45, ha='right')  # Rotate x-axis labels if needed\n",
    "plt.show()"
   ]
  },
  {
   "cell_type": "markdown",
   "metadata": {
    "id": "hIUbTaqQlblp"
   },
   "source": [
    "### Imputing Missing Values\n",
    "##### Find the value counts for the column RemoteWork."
   ]
  },
  {
   "cell_type": "code",
   "execution_count": 20,
   "metadata": {
    "colab": {
     "base_uri": "https://localhost:8080/",
     "height": 210
    },
    "id": "yP7WE6mdlblp",
    "outputId": "e9a2a980-b6fe-4d32-f314-919342d0fcf0"
   },
   "outputs": [
    {
     "data": {
      "text/plain": [
       "RemoteWork\n",
       "Hybrid (some remote, some in-person)    22975\n",
       "Remote                                  20774\n",
       "In-person                               10936\n",
       "Name: count, dtype: int64"
      ]
     },
     "execution_count": 20,
     "metadata": {},
     "output_type": "execute_result"
    }
   ],
   "source": [
    "## Write your code here\n",
    "\n",
    "df['RemoteWork'].value_counts()"
   ]
  },
  {
   "cell_type": "markdown",
   "metadata": {
    "id": "6fWp9UCnlblq"
   },
   "source": [
    "##### Identify the most frequent (majority) value in the RemoteWork column."
   ]
  },
  {
   "cell_type": "code",
   "execution_count": 21,
   "metadata": {
    "colab": {
     "base_uri": "https://localhost:8080/"
    },
    "id": "-yILc5nhlblq",
    "outputId": "d67c1df6-1fdd-4126-a12b-f12655903718"
   },
   "outputs": [
    {
     "name": "stdout",
     "output_type": "stream",
     "text": [
      "Hybrid (some remote, some in-person)\n"
     ]
    }
   ],
   "source": [
    "## Write your code here\n",
    "print(df['RemoteWork'].value_counts().idxmax())"
   ]
  },
  {
   "cell_type": "markdown",
   "metadata": {
    "id": "7NULBVUrlblr"
   },
   "source": [
    "##### Impute (replace) all the empty rows in the column RemoteWork with the majority value."
   ]
  },
  {
   "cell_type": "code",
   "execution_count": 22,
   "metadata": {
    "id": "jRrrgmQXlblr"
   },
   "outputs": [],
   "source": [
    "## Write your code here\n",
    "df['RemoteWork'] = df['RemoteWork'].fillna(df['RemoteWork'].value_counts().idxmax())"
   ]
  },
  {
   "cell_type": "markdown",
   "metadata": {
    "id": "JI-MeGkClblr"
   },
   "source": [
    "##### Check for any compensation-related columns and describe their distribution."
   ]
  },
  {
   "cell_type": "markdown",
   "metadata": {
    "id": "kd7lX9TFlbls"
   },
   "source": [
    "##### Impute missing values in CodingActivities with forward-fill."
   ]
  },
  {
   "cell_type": "code",
   "execution_count": 23,
   "metadata": {
    "colab": {
     "base_uri": "https://localhost:8080/",
     "height": 524
    },
    "id": "34XgMPv9lblt",
    "outputId": "b9ee8002-02d4-4bd0-a04c-74e7287902e4"
   },
   "outputs": [
    {
     "data": {
      "text/plain": [
       "CodingActivities\n",
       "Hobby                                                                                                                                                                              11920\n",
       "I don’t code outside of work                                                                                                                                                        7739\n",
       "Hobby;Professional development or self-paced learning from online courses                                                                                                           7373\n",
       "Hobby;Contribute to open-source projects                                                                                                                                            4448\n",
       "Professional development or self-paced learning from online courses                                                                                                                 3711\n",
       "                                                                                                                                                                                   ...  \n",
       "Other (please specify):;Bootstrapping a business;School or academic work                                                                                                               1\n",
       "Contribute to open-source projects;Other (please specify):;Bootstrapping a business;School or academic work;Professional development or self-paced learning from online courses        1\n",
       "Other (please specify):;School or academic work;Freelance/contract work                                                                                                                1\n",
       "Hobby;Contribute to open-source projects;Other (please specify):;Bootstrapping a business;School or academic work                                                                      1\n",
       "Hobby;Other (please specify):;Bootstrapping a business;School or academic work;Professional development or self-paced learning from online courses;Freelance/contract work             1\n",
       "Name: count, Length: 118, dtype: int64"
      ]
     },
     "execution_count": 23,
     "metadata": {},
     "output_type": "execute_result"
    }
   ],
   "source": [
    "## Write your code here# Forward-fill missing values in 'CodingActivities'\n",
    "df['CodingActivities'] = df['CodingActivities'].ffill()\n",
    "df['CodingActivities'].value_counts()"
   ]
  },
  {
   "cell_type": "markdown",
   "metadata": {
    "id": "YrTiwZGqlblt"
   },
   "source": [
    "### Normalizing Compensation Data\n",
    "##### Identify compensation-related columns, such as ConvertedCompYearly.\n",
    "Normalization is commonly applied to compensation data to bring values within a comparable range. Here, you’ll identify ConvertedCompYearly or similar columns, which contain compensation information. This column will be used in the subsequent tasks for normalization.\n"
   ]
  },
  {
   "cell_type": "code",
   "execution_count": 24,
   "metadata": {
    "colab": {
     "base_uri": "https://localhost:8080/"
    },
    "id": "WPJgvOQ3lblu",
    "outputId": "d6c69bc8-fdf3-4da0-fa8e-97d2f8294920"
   },
   "outputs": [
    {
     "name": "stdout",
     "output_type": "stream",
     "text": [
      "Index(['MainBranch', 'Age', 'Employment', 'RemoteWork', 'Check',\n",
      "       'CodingActivities', 'EdLevel', 'LearnCode', 'LearnCodeOnline',\n",
      "       'TechDoc',\n",
      "       ...\n",
      "       'JobSatPoints_6', 'JobSatPoints_7', 'JobSatPoints_8', 'JobSatPoints_9',\n",
      "       'JobSatPoints_10', 'JobSatPoints_11', 'SurveyLength', 'SurveyEase',\n",
      "       'ConvertedCompYearly', 'JobSat'],\n",
      "      dtype='object', length=113)\n",
      "Column 'ConvertedCompYearly' found!\n",
      "Missing values in 'ConvertedCompYearly': 0\n",
      "count    6.511500e+04\n",
      "mean     7.260270e+04\n",
      "std      1.124917e+05\n",
      "min      1.000000e+00\n",
      "25%      6.500000e+04\n",
      "50%      6.500000e+04\n",
      "75%      6.500000e+04\n",
      "max      1.625660e+07\n",
      "Name: ConvertedCompYearly, dtype: float64\n"
     ]
    }
   ],
   "source": [
    "## Write your code here\n",
    "\n",
    "# Step 1: Display column names to identify compensation-related columns\n",
    "print(df.columns)\n",
    "\n",
    "# Step 2: Check if 'ConvertedCompYearly' exists\n",
    "if 'ConvertedCompYearly' in df.columns:\n",
    "\n",
    "    print(\"Column 'ConvertedCompYearly' found!\")\n",
    "    # Step 3: Check for missing values in 'ConvertedCompYearly'\n",
    "    missing_values = df['ConvertedCompYearly'].isnull().sum()\n",
    "    print(f\"Missing values in 'ConvertedCompYearly': {missing_values}\")\n",
    "\n",
    "    # Step 4: Handle missing values (if necessary)\n",
    "    # Example: Drop rows with missing compensation values\n",
    "    df = df.dropna(subset=['ConvertedCompYearly'])\n",
    "\n",
    "    # Step 5: Ensure the column is numeric\n",
    "    df['ConvertedCompYearly'] = pd.to_numeric(df['ConvertedCompYearly'], errors='coerce')\n",
    "\n",
    "    # Final Output: Verify the data\n",
    "    print(df['ConvertedCompYearly'].describe())\n",
    "\n",
    "else:\n",
    "    print(\"Column 'ConvertedCompYearly' not found. Please inspect the dataset for other compensation-related columns.\")"
   ]
  },
  {
   "cell_type": "markdown",
   "metadata": {
    "id": "AIPU-Zoylblv"
   },
   "source": [
    "##### Normalize ConvertedCompYearly using Min-Max Scaling.\n",
    "Min-Max Scaling brings all values in a column to a 0-1 range, making it useful for comparing data across different scales. Here, you will apply Min-Max normalization to the ConvertedCompYearly column, creating a new column ConvertedCompYearly_MinMax with normalized values."
   ]
  },
  {
   "cell_type": "code",
   "execution_count": 25,
   "metadata": {
    "colab": {
     "base_uri": "https://localhost:8080/"
    },
    "id": "FfVeCdNHlblv",
    "outputId": "832e9932-2e19-43ce-950f-14fffe8fcdb1"
   },
   "outputs": [
    {
     "name": "stdout",
     "output_type": "stream",
     "text": [
      "   ConvertedCompYearly  ConvertedCompYearly_MinMax\n",
      "0              65000.0                    0.003998\n",
      "1              65000.0                    0.003998\n",
      "2              65000.0                    0.003998\n",
      "3              65000.0                    0.003998\n",
      "4              65000.0                    0.003998\n"
     ]
    }
   ],
   "source": [
    "## Write your code here\n",
    "from sklearn.preprocessing import MinMaxScaler\n",
    "\n",
    "# Step 1: Ensure 'ConvertedCompYearly' is numeric\n",
    "df['ConvertedCompYearly'] = pd.to_numeric(df['ConvertedCompYearly'], errors='coerce')\n",
    "\n",
    "# Step 2: Drop rows with missing 'ConvertedCompYearly' values\n",
    "df = df.dropna(subset=['ConvertedCompYearly'])\n",
    "\n",
    "# Step 3: Initialize MinMaxScaler\n",
    "scaler = MinMaxScaler()\n",
    "\n",
    "# Step 4: Apply Min-Max Scaling and create a new column\n",
    "df['ConvertedCompYearly_MinMax'] = scaler.fit_transform(df[['ConvertedCompYearly']])\n",
    "\n",
    "# Step 5: Verify the results\n",
    "print(df[['ConvertedCompYearly', 'ConvertedCompYearly_MinMax']].head())\n"
   ]
  },
  {
   "cell_type": "markdown",
   "metadata": {
    "id": "sLLyfYrtlblw"
   },
   "source": [
    "##### Apply Z-score Normalization to `ConvertedCompYearly`.\n",
    "\n",
    "Z-score normalization standardizes values by converting them to a distribution with a mean of 0 and a standard deviation of 1. This method is helpful for datasets with a Gaussian (normal) distribution. Here, you’ll calculate Z-scores for the ConvertedCompYearly column, saving the results in a new column ConvertedCompYearly_Zscore."
   ]
  },
  {
   "cell_type": "code",
   "execution_count": 26,
   "metadata": {
    "colab": {
     "base_uri": "https://localhost:8080/"
    },
    "id": "m3LZpjR8lblw",
    "outputId": "7c5f6a97-9b16-4bea-d654-79ad69904ce6"
   },
   "outputs": [
    {
     "name": "stdout",
     "output_type": "stream",
     "text": [
      "   ConvertedCompYearly  ConvertedCompYearly_Zscore\n",
      "0              65000.0                   -0.067585\n",
      "1              65000.0                   -0.067585\n",
      "2              65000.0                   -0.067585\n",
      "3              65000.0                   -0.067585\n",
      "4              65000.0                   -0.067585\n"
     ]
    }
   ],
   "source": [
    "## Write your code here\n",
    "\n",
    "# Step 1: Ensure 'ConvertedCompYearly' is numeric\n",
    "df['ConvertedCompYearly'] = pd.to_numeric(df['ConvertedCompYearly'], errors='coerce')\n",
    "\n",
    "# Step 2: Drop rows with missing 'ConvertedCompYearly' values\n",
    "df = df.dropna(subset=['ConvertedCompYearly'])\n",
    "\n",
    "# Step 3: Calculate Z-score normalization\n",
    "mean_value = df['ConvertedCompYearly'].mean()\n",
    "std_dev = df['ConvertedCompYearly'].std()\n",
    "\n",
    "df['ConvertedCompYearly_Zscore'] = (df['ConvertedCompYearly'] - mean_value) / std_dev\n",
    "\n",
    "# Step 4: Verify the results\n",
    "print(df[['ConvertedCompYearly', 'ConvertedCompYearly_Zscore']].head())\n"
   ]
  },
  {
   "cell_type": "markdown",
   "metadata": {
    "id": "QoIvUOQQlblx"
   },
   "source": [
    "### Visualization of Normalized Data\n",
    "##### Visualize the distribution of `ConvertedCompYearly`, `ConvertedCompYearly_Normalized`, and `ConvertedCompYearly_Zscore`\n",
    "\n",
    "Visualization helps you understand how normalization changes the data distribution. In this task, create histograms for the original ConvertedCompYearly, as well as its normalized versions (ConvertedCompYearly_MinMax and ConvertedCompYearly_Zscore). This will help you compare how each normalization technique affects the data range and distribution."
   ]
  },
  {
   "cell_type": "code",
   "execution_count": 27,
   "metadata": {
    "colab": {
     "base_uri": "https://localhost:8080/",
     "height": 644
    },
    "id": "bQ_79d-Flblx",
    "outputId": "ea82120b-4e62-44b0-c17a-5d6c296e9f13"
   },
   "outputs": [
    {
     "data": {
      "image/png": "[encoded data removed]",
      "text/plain": [
       "<Figure size 1500x800 with 3 Axes>"
      ]
     },
     "metadata": {},
     "output_type": "display_data"
    }
   ],
   "source": [
    "## Write your code here\n",
    "\n",
    "import matplotlib.pyplot as plt\n",
    "\n",
    "# Create histograms for the distributions of the original and normalized columns\n",
    "plt.figure(figsize=(15, 8))\n",
    "\n",
    "# Histogram for ConvertedCompYearly (Original)\n",
    "plt.subplot(1, 3, 1)\n",
    "plt.hist(df['ConvertedCompYearly'], bins=30, color='blue', alpha=0.7)\n",
    "plt.title('Original ConvertedCompYearly')\n",
    "plt.xlabel('ConvertedCompYearly')\n",
    "plt.ylabel('Frequency')\n",
    "\n",
    "# Histogram for ConvertedCompYearly_MinMax\n",
    "plt.subplot(1, 3, 2)\n",
    "plt.hist(df['ConvertedCompYearly_MinMax'], bins=30, color='green', alpha=0.7)\n",
    "plt.title('Min-Max Normalized ConvertedCompYearly')\n",
    "plt.xlabel('ConvertedCompYearly_MinMax')\n",
    "\n",
    "# Histogram for ConvertedCompYearly_Zscore\n",
    "plt.subplot(1, 3, 3)\n",
    "plt.hist(df['ConvertedCompYearly_Zscore'], bins=30, color='orange', alpha=0.7)\n",
    "plt.title('Z-Score Normalized ConvertedCompYearly')\n",
    "plt.xlabel('ConvertedCompYearly_Zscore')\n",
    "\n",
    "# Display the plots\n",
    "plt.tight_layout()\n",
    "plt.show()"
   ]
  },
  {
   "cell_type": "markdown",
   "metadata": {
    "id": "0a7b356e-a83e-478a-bd04-da95500e0304"
   },
   "source": [
    "<h5>2.1 Summarize the dataset by displaying the column data types, counts, and missing values.</h5>\n"
   ]
  },
  {
   "cell_type": "code",
   "execution_count": 28,
   "metadata": {
    "colab": {
     "base_uri": "https://localhost:8080/",
     "height": 424
    },
    "id": "a5b368e2-4d3c-4382-9b1c-458be459ecef",
    "outputId": "386c6bab-dc7a-413f-8ac1-8f3b494d9d05"
   },
   "outputs": [
    {
     "data": {
      "text/html": [
       "<div>\n",
       "<style scoped>\n",
       "    .dataframe tbody tr th:only-of-type {\n",
       "        vertical-align: middle;\n",
       "    }\n",
       "\n",
       "    .dataframe tbody tr th {\n",
       "        vertical-align: top;\n",
       "    }\n",
       "\n",
       "    .dataframe thead th {\n",
       "        text-align: right;\n",
       "    }\n",
       "</style>\n",
       "<table border=\"1\" class=\"dataframe\">\n",
       "  <thead>\n",
       "    <tr style=\"text-align: right;\">\n",
       "      <th></th>\n",
       "      <th>missing_values</th>\n",
       "    </tr>\n",
       "  </thead>\n",
       "  <tbody>\n",
       "    <tr>\n",
       "      <th>MainBranch</th>\n",
       "      <td>0</td>\n",
       "    </tr>\n",
       "    <tr>\n",
       "      <th>Age</th>\n",
       "      <td>0</td>\n",
       "    </tr>\n",
       "    <tr>\n",
       "      <th>Employment</th>\n",
       "      <td>0</td>\n",
       "    </tr>\n",
       "    <tr>\n",
       "      <th>RemoteWork</th>\n",
       "      <td>0</td>\n",
       "    </tr>\n",
       "    <tr>\n",
       "      <th>Check</th>\n",
       "      <td>0</td>\n",
       "    </tr>\n",
       "    <tr>\n",
       "      <th>...</th>\n",
       "      <td>...</td>\n",
       "    </tr>\n",
       "    <tr>\n",
       "      <th>SurveyEase</th>\n",
       "      <td>9125</td>\n",
       "    </tr>\n",
       "    <tr>\n",
       "      <th>ConvertedCompYearly</th>\n",
       "      <td>0</td>\n",
       "    </tr>\n",
       "    <tr>\n",
       "      <th>JobSat</th>\n",
       "      <td>36037</td>\n",
       "    </tr>\n",
       "    <tr>\n",
       "      <th>ConvertedCompYearly_MinMax</th>\n",
       "      <td>0</td>\n",
       "    </tr>\n",
       "    <tr>\n",
       "      <th>ConvertedCompYearly_Zscore</th>\n",
       "      <td>0</td>\n",
       "    </tr>\n",
       "  </tbody>\n",
       "</table>\n",
       "<p>115 rows × 1 columns</p>\n",
       "</div>"
      ],
      "text/plain": [
       "                            missing_values\n",
       "MainBranch                               0\n",
       "Age                                      0\n",
       "Employment                               0\n",
       "RemoteWork                               0\n",
       "Check                                    0\n",
       "...                                    ...\n",
       "SurveyEase                            9125\n",
       "ConvertedCompYearly                      0\n",
       "JobSat                               36037\n",
       "ConvertedCompYearly_MinMax               0\n",
       "ConvertedCompYearly_Zscore               0\n",
       "\n",
       "[115 rows x 1 columns]"
      ]
     },
     "execution_count": 28,
     "metadata": {},
     "output_type": "execute_result"
    }
   ],
   "source": [
    "# Write your code here\n",
    "\n",
    "def missing_value(df):\n",
    "    return df.isnull().sum().to_frame('missing_values')\n",
    "\n",
    "missing_data=missing_value(df)\n",
    "missing_data"
   ]
  },
  {
   "cell_type": "markdown",
   "metadata": {
    "id": "685cdd1b-44d7-40cf-ba9f-ee347f747832"
   },
   "source": [
    "<h5>2.2 Generate basic statistics for numerical columns.</h5>\n"
   ]
  },
  {
   "cell_type": "code",
   "execution_count": 29,
   "metadata": {
    "colab": {
     "base_uri": "https://localhost:8080/",
     "height": 320
    },
    "id": "e527b643-6963-4a64-aab2-297894062fcb",
    "outputId": "448708ad-992f-4e62-8445-de857b5068fe"
   },
   "outputs": [
    {
     "data": {
      "text/html": [
       "<div>\n",
       "<style scoped>\n",
       "    .dataframe tbody tr th:only-of-type {\n",
       "        vertical-align: middle;\n",
       "    }\n",
       "\n",
       "    .dataframe tbody tr th {\n",
       "        vertical-align: top;\n",
       "    }\n",
       "\n",
       "    .dataframe thead th {\n",
       "        text-align: right;\n",
       "    }\n",
       "</style>\n",
       "<table border=\"1\" class=\"dataframe\">\n",
       "  <thead>\n",
       "    <tr style=\"text-align: right;\">\n",
       "      <th></th>\n",
       "      <th>Age</th>\n",
       "      <th>CompTotal</th>\n",
       "      <th>WorkExp</th>\n",
       "      <th>JobSatPoints_1</th>\n",
       "      <th>JobSatPoints_4</th>\n",
       "      <th>JobSatPoints_5</th>\n",
       "      <th>JobSatPoints_6</th>\n",
       "      <th>JobSatPoints_7</th>\n",
       "      <th>JobSatPoints_8</th>\n",
       "      <th>JobSatPoints_9</th>\n",
       "      <th>JobSatPoints_10</th>\n",
       "      <th>JobSatPoints_11</th>\n",
       "      <th>ConvertedCompYearly</th>\n",
       "      <th>JobSat</th>\n",
       "      <th>ConvertedCompYearly_MinMax</th>\n",
       "      <th>ConvertedCompYearly_Zscore</th>\n",
       "    </tr>\n",
       "  </thead>\n",
       "  <tbody>\n",
       "    <tr>\n",
       "      <th>count</th>\n",
       "      <td>65115.000000</td>\n",
       "      <td>3.372600e+04</td>\n",
       "      <td>29611.000000</td>\n",
       "      <td>29273.000000</td>\n",
       "      <td>29342.000000</td>\n",
       "      <td>29361.000000</td>\n",
       "      <td>29399.000000</td>\n",
       "      <td>29397.000000</td>\n",
       "      <td>29405.000000</td>\n",
       "      <td>29405.000000</td>\n",
       "      <td>29399.000000</td>\n",
       "      <td>29394.000000</td>\n",
       "      <td>6.511500e+04</td>\n",
       "      <td>29078.000000</td>\n",
       "      <td>65115.000000</td>\n",
       "      <td>6.511500e+04</td>\n",
       "    </tr>\n",
       "    <tr>\n",
       "      <th>mean</th>\n",
       "      <td>33.196898</td>\n",
       "      <td>2.965071e+145</td>\n",
       "      <td>11.450204</td>\n",
       "      <td>18.588939</td>\n",
       "      <td>7.529488</td>\n",
       "      <td>10.069544</td>\n",
       "      <td>24.364134</td>\n",
       "      <td>22.981012</td>\n",
       "      <td>20.292081</td>\n",
       "      <td>16.178738</td>\n",
       "      <td>10.968698</td>\n",
       "      <td>9.962441</td>\n",
       "      <td>7.260270e+04</td>\n",
       "      <td>6.935209</td>\n",
       "      <td>0.004466</td>\n",
       "      <td>5.412412e-17</td>\n",
       "    </tr>\n",
       "    <tr>\n",
       "      <th>std</th>\n",
       "      <td>11.575526</td>\n",
       "      <td>5.445247e+147</td>\n",
       "      <td>9.149328</td>\n",
       "      <td>25.974073</td>\n",
       "      <td>18.435003</td>\n",
       "      <td>21.846880</td>\n",
       "      <td>27.100750</td>\n",
       "      <td>27.027534</td>\n",
       "      <td>26.118117</td>\n",
       "      <td>24.853369</td>\n",
       "      <td>22.922295</td>\n",
       "      <td>21.788733</td>\n",
       "      <td>1.124917e+05</td>\n",
       "      <td>2.087668</td>\n",
       "      <td>0.006920</td>\n",
       "      <td>1.000000e+00</td>\n",
       "    </tr>\n",
       "    <tr>\n",
       "      <th>min</th>\n",
       "      <td>17.000000</td>\n",
       "      <td>0.000000e+00</td>\n",
       "      <td>0.000000</td>\n",
       "      <td>0.000000</td>\n",
       "      <td>0.000000</td>\n",
       "      <td>0.000000</td>\n",
       "      <td>0.000000</td>\n",
       "      <td>0.000000</td>\n",
       "      <td>0.000000</td>\n",
       "      <td>0.000000</td>\n",
       "      <td>0.000000</td>\n",
       "      <td>0.000000</td>\n",
       "      <td>1.000000e+00</td>\n",
       "      <td>0.000000</td>\n",
       "      <td>0.000000</td>\n",
       "      <td>-6.453963e-01</td>\n",
       "    </tr>\n",
       "    <tr>\n",
       "      <th>25%</th>\n",
       "      <td>20.000000</td>\n",
       "      <td>6.000000e+04</td>\n",
       "      <td>4.000000</td>\n",
       "      <td>0.000000</td>\n",
       "      <td>0.000000</td>\n",
       "      <td>0.000000</td>\n",
       "      <td>0.000000</td>\n",
       "      <td>0.000000</td>\n",
       "      <td>0.000000</td>\n",
       "      <td>0.000000</td>\n",
       "      <td>0.000000</td>\n",
       "      <td>0.000000</td>\n",
       "      <td>6.500000e+04</td>\n",
       "      <td>6.000000</td>\n",
       "      <td>0.003998</td>\n",
       "      <td>-6.758460e-02</td>\n",
       "    </tr>\n",
       "    <tr>\n",
       "      <th>50%</th>\n",
       "      <td>30.000000</td>\n",
       "      <td>1.100000e+05</td>\n",
       "      <td>9.000000</td>\n",
       "      <td>10.000000</td>\n",
       "      <td>0.000000</td>\n",
       "      <td>0.000000</td>\n",
       "      <td>20.000000</td>\n",
       "      <td>15.000000</td>\n",
       "      <td>10.000000</td>\n",
       "      <td>5.000000</td>\n",
       "      <td>0.000000</td>\n",
       "      <td>0.000000</td>\n",
       "      <td>6.500000e+04</td>\n",
       "      <td>7.000000</td>\n",
       "      <td>0.003998</td>\n",
       "      <td>-6.758460e-02</td>\n",
       "    </tr>\n",
       "    <tr>\n",
       "      <th>75%</th>\n",
       "      <td>40.000000</td>\n",
       "      <td>2.500000e+05</td>\n",
       "      <td>16.000000</td>\n",
       "      <td>22.000000</td>\n",
       "      <td>5.000000</td>\n",
       "      <td>10.000000</td>\n",
       "      <td>30.000000</td>\n",
       "      <td>30.000000</td>\n",
       "      <td>25.000000</td>\n",
       "      <td>20.000000</td>\n",
       "      <td>10.000000</td>\n",
       "      <td>10.000000</td>\n",
       "      <td>6.500000e+04</td>\n",
       "      <td>8.000000</td>\n",
       "      <td>0.003998</td>\n",
       "      <td>-6.758460e-02</td>\n",
       "    </tr>\n",
       "    <tr>\n",
       "      <th>max</th>\n",
       "      <td>70.000000</td>\n",
       "      <td>1.000000e+150</td>\n",
       "      <td>50.000000</td>\n",
       "      <td>100.000000</td>\n",
       "      <td>100.000000</td>\n",
       "      <td>100.000000</td>\n",
       "      <td>100.000000</td>\n",
       "      <td>100.000000</td>\n",
       "      <td>100.000000</td>\n",
       "      <td>100.000000</td>\n",
       "      <td>100.000000</td>\n",
       "      <td>100.000000</td>\n",
       "      <td>1.625660e+07</td>\n",
       "      <td>10.000000</td>\n",
       "      <td>1.000000</td>\n",
       "      <td>1.438685e+02</td>\n",
       "    </tr>\n",
       "  </tbody>\n",
       "</table>\n",
       "</div>"
      ],
      "text/plain": [
       "                Age      CompTotal       WorkExp  JobSatPoints_1  \\\n",
       "count  65115.000000   3.372600e+04  29611.000000    29273.000000   \n",
       "mean      33.196898  2.965071e+145     11.450204       18.588939   \n",
       "std       11.575526  5.445247e+147      9.149328       25.974073   \n",
       "min       17.000000   0.000000e+00      0.000000        0.000000   \n",
       "25%       20.000000   6.000000e+04      4.000000        0.000000   \n",
       "50%       30.000000   1.100000e+05      9.000000       10.000000   \n",
       "75%       40.000000   2.500000e+05     16.000000       22.000000   \n",
       "max       70.000000  1.000000e+150     50.000000      100.000000   \n",
       "\n",
       "       JobSatPoints_4  JobSatPoints_5  JobSatPoints_6  JobSatPoints_7  \\\n",
       "count    29342.000000    29361.000000    29399.000000    29397.000000   \n",
       "mean         7.529488       10.069544       24.364134       22.981012   \n",
       "std         18.435003       21.846880       27.100750       27.027534   \n",
       "min          0.000000        0.000000        0.000000        0.000000   \n",
       "25%          0.000000        0.000000        0.000000        0.000000   \n",
       "50%          0.000000        0.000000       20.000000       15.000000   \n",
       "75%          5.000000       10.000000       30.000000       30.000000   \n",
       "max        100.000000      100.000000      100.000000      100.000000   \n",
       "\n",
       "       JobSatPoints_8  JobSatPoints_9  JobSatPoints_10  JobSatPoints_11  \\\n",
       "count    29405.000000    29405.000000     29399.000000     29394.000000   \n",
       "mean        20.292081       16.178738        10.968698         9.962441   \n",
       "std         26.118117       24.853369        22.922295        21.788733   \n",
       "min          0.000000        0.000000         0.000000         0.000000   \n",
       "25%          0.000000        0.000000         0.000000         0.000000   \n",
       "50%         10.000000        5.000000         0.000000         0.000000   \n",
       "75%         25.000000       20.000000        10.000000        10.000000   \n",
       "max        100.000000      100.000000       100.000000       100.000000   \n",
       "\n",
       "       ConvertedCompYearly        JobSat  ConvertedCompYearly_MinMax  \\\n",
       "count         6.511500e+04  29078.000000                65115.000000   \n",
       "mean          7.260270e+04      6.935209                    0.004466   \n",
       "std           1.124917e+05      2.087668                    0.006920   \n",
       "min           1.000000e+00      0.000000                    0.000000   \n",
       "25%           6.500000e+04      6.000000                    0.003998   \n",
       "50%           6.500000e+04      7.000000                    0.003998   \n",
       "75%           6.500000e+04      8.000000                    0.003998   \n",
       "max           1.625660e+07     10.000000                    1.000000   \n",
       "\n",
       "       ConvertedCompYearly_Zscore  \n",
       "count                6.511500e+04  \n",
       "mean                 5.412412e-17  \n",
       "std                  1.000000e+00  \n",
       "min                 -6.453963e-01  \n",
       "25%                 -6.758460e-02  \n",
       "50%                 -6.758460e-02  \n",
       "75%                 -6.758460e-02  \n",
       "max                  1.438685e+02  "
      ]
     },
     "execution_count": 29,
     "metadata": {},
     "output_type": "execute_result"
    }
   ],
   "source": [
    "# Write your code here\n",
    "df.describe()"
   ]
  },
  {
   "cell_type": "markdown",
   "metadata": {
    "id": "224d423d-4338-423a-ae66-40981cc7809d"
   },
   "source": [
    "<h5>3.1 Identify inconsistent or irrelevant entries in specific columns (e.g., Country).</h5>\n"
   ]
  },
  {
   "cell_type": "markdown",
   "metadata": {
    "id": "a32ff9e2-d19e-4175-9997-907c09a94df0"
   },
   "source": [
    "<h5>3.2 Standardize entries in columns like Country or EdLevel by mapping inconsistent values to a consistent format.</h5>\n"
   ]
  },
  {
   "cell_type": "code",
   "execution_count": 30,
   "metadata": {
    "id": "196a5909-90b5-4a2b-80cc-ca4427fb97f6"
   },
   "outputs": [],
   "source": [
    "\n",
    "# 1. Standardize 'Country' column\n",
    "country_mapping = {\n",
    "    'United States': 'US',\n",
    "    'United States of America': 'US',\n",
    "    'U.S.A.': 'US',\n",
    "    'USA': 'US',\n",
    "    'United Kingdom': 'UK',\n",
    "    'Great Britain': 'UK',\n",
    "    # Add more mappings as needed\n",
    "}\n",
    "\n",
    "df['Country'] = df['Country'].map(country_mapping).fillna(df['Country'])\n",
    "\n",
    "\n",
    "# 2. Standardize 'EdLevel' column\n",
    "edlevel_mapping = {\n",
    "    \"Bachelor’s degree (BA, BS, B.Eng., etc.)\": \"Bachelor's degree\",\n",
    "    \"Master’s degree (MA, MS, M.Eng., MBA, etc.)\": \"Master's degree\",\n",
    "    \"Some college/university study without earning a degree\": \"Some college\",\n",
    "    # Add more mappings as needed\n",
    "}\n",
    "\n",
    "df['EdLevel'] = df['EdLevel'].map(edlevel_mapping).fillna(df['EdLevel'])\n"
   ]
  },
  {
   "cell_type": "markdown",
   "metadata": {
    "id": "f3f7396f-8152-454d-b0d6-ee70eaba540d"
   },
   "source": [
    "### 4. Encoding Categorical Variables\n"
   ]
  },
  {
   "cell_type": "markdown",
   "metadata": {
    "id": "3494af17-d786-412c-8fa5-93007c842385"
   },
   "source": [
    "<h5>5.2 Impute missing values in numerical columns (e.g., `ConvertedCompYearly`) with the mean or median.</h5>\n"
   ]
  },
  {
   "cell_type": "code",
   "execution_count": 31,
   "metadata": {
    "colab": {
     "base_uri": "https://localhost:8080/"
    },
    "id": "5b4dc8e5-d3d2-449d-ae4e-022bd8ee36e3",
    "outputId": "e07d5986-b825-4e12-99ca-5a39d881c0fc"
   },
   "outputs": [],
   "source": [
    "\n",
    "# 1. Impute with mean\n",
    "df['ConvertedCompYearly'].fillna(df['ConvertedCompYearly'].mean(), inplace=True)\n",
    "\n"
   ]
  },
  {
   "cell_type": "markdown",
   "metadata": {
    "id": "b7aa6dd5-e442-4042-8e0b-7b047c5271c7"
   },
   "source": [
    "<h5>5.3 Impute missing values in categorical columns (e.g., `RemoteWork`) with the most frequent value.</h5>\n"
   ]
  },
  {
   "cell_type": "markdown",
   "metadata": {
    "id": "df590266-80ce-41e6-aec8-0e535b770629"
   },
   "source": [
    "### 6. Feature Scaling and Transformation\n"
   ]
  },
  {
   "cell_type": "markdown",
   "metadata": {
    "id": "a7cd7cc2-4615-4c03-a2a9-ed6a30ef2556"
   },
   "source": [
    "<h5>7.1 Create a new column `ExperienceLevel` based on the `YearsCodePro` column:</h5>\n"
   ]
  },
  {
   "cell_type": "code",
   "execution_count": 33,
   "metadata": {},
   "outputs": [],
   "source": [
    "df.to_csv(\"../survey-data.csv\")"
   ]
  },
  {
   "cell_type": "markdown",
   "metadata": {
    "id": "9cb9db65-501b-4f0a-b514-5b77fe7172b1"
   },
   "source": [
    "### Summary\n"
   ]
  },
  {
   "cell_type": "markdown",
   "metadata": {
    "id": "10613a56-101f-4d4e-8d03-08bb7c5f54bc"
   },
   "source": [
    "In this lab, you:\n",
    "\n",
    "- Explored the dataset to identify inconsistencies and missing values.\n",
    "\n",
    "- Encoded categorical variables for analysis.\n",
    "\n",
    "- Handled missing values using imputation techniques.\n",
    "\n",
    "- Normalized and transformed numerical data to prepare it for analysis.\n",
    "\n",
    "- Engineered a new feature to enhance data interpretation.\n"
   ]
  },
  {
   "cell_type": "markdown",
   "metadata": {
    "id": "d65b9608-d5e2-4b31-a8ce-09231fafce5f"
   },
   "source": [
    "Copyright © IBM Corporation. All rights reserved.\n"
   ]
  }
 ],
 "metadata": {
  "colab": {
   "provenance": []
  },
  "kernelspec": {
   "display_name": "base",
   "language": "python",
   "name": "python3"
  },
  "language_info": {
   "codemirror_mode": {
    "name": "ipython",
    "version": 3
   },
   "file_extension": ".py",
   "mimetype": "text/x-python",
   "name": "python",
   "nbconvert_exporter": "python",
   "pygments_lexer": "ipython3",
   "version": "3.11.7"
  },
  "prev_pub_hash": "1e8e234f19fd098e27b0518a87f18de690e1c51f1d3263d5690927d19971251e"
 },
 "nbformat": 4,
 "nbformat_minor": 0
}
